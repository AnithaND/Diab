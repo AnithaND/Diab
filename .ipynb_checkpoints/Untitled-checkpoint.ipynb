{
 "cells": [
  {
   "cell_type": "code",
   "execution_count": 2,
   "id": "764b5dfc",
   "metadata": {},
   "outputs": [
    {
     "name": "stdout",
     "output_type": "stream",
     "text": [
      "enter preg5\n",
      "enter glu109\n",
      "enter bp75\n",
      "enter st26\n",
      "enter ins0\n",
      "enter bmi36\n",
      "enter dipf1\n",
      "enter age60\n",
      "result= [1]\n"
     ]
    }
   ],
   "source": [
    "import pandas as pd\n",
    "from sklearn.model_selection import train_test_split\n",
    "from sklearn.preprocessing import StandardScaler\n",
    "from sklearn.linear_model import LogisticRegression\n",
    "from sklearn.metrics import accuracy_score\n",
    "\n",
    "df=pd.read_csv(r\"diabetes.csv\")\n",
    "\n",
    "X=df[['Pregnancies', 'Glucose', 'BloodPressure', 'SkinThickness', 'Insulin', 'BMI', 'DiabetesPedigreeFunction', 'Age']]\n",
    "y=df['Outcome']\n",
    "\n",
    "X_train, X_test, y_train, y_test = train_test_split(X, y, test_size=0.2, random_state=42)\n",
    "\n",
    "\n",
    "scaler = StandardScaler()\n",
    "X_train = scaler.fit_transform(X_train)\n",
    "X_test = scaler.transform(X_test)\n",
    "\n",
    "model = LogisticRegression()\n",
    "model.fit(X_train, y_train)\n",
    "\n",
    "Pregnancies=float(input(\"enter preg\"))\n",
    "Glucose=float(input(\"enter glu\"))\n",
    "BloodPressure=float(input(\"enter bp\"))\n",
    "SkinThickness=float(input(\"enter st\"))\n",
    "Insulin=float(input(\"enter ins\"))\n",
    "BMI=float(input(\"enter bmi\"))\n",
    "DiabetesPedigreeFunction=float(input(\"enter dipf\"))\n",
    "Age=float(input(\"enter age\"))\n",
    "result=model.predict([[Pregnancies, Glucose, BloodPressure, SkinThickness, Insulin, BMI, DiabetesPedigreeFunction, Age]])\n",
    "print(\"result=\",result) "
   ]
  },
  {
   "cell_type": "code",
   "execution_count": 1,
   "id": "dc5de5f3",
   "metadata": {},
   "outputs": [
    {
     "name": "stdout",
     "output_type": "stream",
     "text": [
      "The person is not diabetic.\n",
      "Accuracy: 0.7207792207792207\n"
     ]
    },
    {
     "name": "stderr",
     "output_type": "stream",
     "text": [
      "C:\\Users\\anitha\\anaconda3\\lib\\site-packages\\sklearn\\base.py:450: UserWarning: X does not have valid feature names, but RandomForestClassifier was fitted with feature names\n",
      "  warnings.warn(\n"
     ]
    }
   ],
   "source": [
    "# Importing necessary libraries\n",
    "import numpy as np\n",
    "import pandas as pd\n",
    "from sklearn.model_selection import train_test_split\n",
    "from sklearn.ensemble import RandomForestClassifier\n",
    "\n",
    "\n",
    "df=pd.read_csv(r\"diabetes.csv\")\n",
    "\n",
    "X=df[['Pregnancies', 'Glucose', 'BloodPressure', 'SkinThickness', 'Insulin', 'BMI', 'DiabetesPedigreeFunction', 'Age']]\n",
    "y=df['Outcome']\n",
    "\n",
    "# Splitting the dataset into the training set and test set\n",
    "X_train, X_test, y_train, y_test = train_test_split(X, y, test_size=0.2, random_state=42)\n",
    "\n",
    "# Creating a RandomForestClassifier model\n",
    "model = RandomForestClassifier()\n",
    "\n",
    "# Training the model\n",
    "model.fit(X_train, y_train)\n",
    "\n",
    "# Making predictions\n",
    "predictions = model.predict(X_test)\n",
    "\n",
    "# Defining function to print result\n",
    "def print_diabetes_result(prediction):\n",
    "    if prediction == 0:\n",
    "        print(\"The person is not diabetic.\")\n",
    "    else:\n",
    "        print(\"The person is diabetic.\")\n",
    "\n",
    "# Example usage\n",
    "example_data = np.array([[6, 148, 72, 33, 1, 26.6, 0.351, 60]])\n",
    "prediction = model.predict(example_data)\n",
    "print_diabetes_result(prediction[0])"
   ]
  },
  {
   "cell_type": "code",
   "execution_count": null,
   "id": "01de12c3",
   "metadata": {},
   "outputs": [],
   "source": []
  },
  {
   "cell_type": "code",
   "execution_count": null,
   "id": "5484f649",
   "metadata": {},
   "outputs": [],
   "source": []
  }
 ],
 "metadata": {
  "kernelspec": {
   "display_name": "Python 3 (ipykernel)",
   "language": "python",
   "name": "python3"
  },
  "language_info": {
   "codemirror_mode": {
    "name": "ipython",
    "version": 3
   },
   "file_extension": ".py",
   "mimetype": "text/x-python",
   "name": "python",
   "nbconvert_exporter": "python",
   "pygments_lexer": "ipython3",
   "version": "3.9.12"
  }
 },
 "nbformat": 4,
 "nbformat_minor": 5
}
